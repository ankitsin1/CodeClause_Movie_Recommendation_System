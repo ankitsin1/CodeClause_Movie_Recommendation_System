{
 "cells": [
  {
   "cell_type": "markdown",
   "id": "3e9b02f8",
   "metadata": {},
   "source": [
    "# Movie Recommendation System"
   ]
  },
  {
   "cell_type": "code",
   "execution_count": 1,
   "id": "be3f677d",
   "metadata": {},
   "outputs": [],
   "source": [
    "#importing libraries\n",
    "import pandas as pd\n",
    "from sklearn.feature_extraction.text import TfidfVectorizer\n",
    "from sklearn.metrics.pairwise import cosine_similarity"
   ]
  },
  {
   "cell_type": "code",
   "execution_count": 3,
   "id": "09d95338",
   "metadata": {},
   "outputs": [],
   "source": [
    "# Load the movie dataset\n",
    "movies = pd.read_csv(\"C:\\\\Users\\\\91726\\\\Downloads\\\\INTERNSHIP\\\\tmdb_5000_credits.csv\\\\tmdb_5000_credits.csv\")"
   ]
  },
  {
   "cell_type": "code",
   "execution_count": 4,
   "id": "db46c636",
   "metadata": {},
   "outputs": [],
   "source": [
    "# Create a TF-IDF vectorizer object to transform the movie titles into vectors\n",
    "vectorizer = TfidfVectorizer(stop_words='english')\n",
    "\n",
    "# Transform the movie titles into vectors\n",
    "title_vectors = vectorizer.fit_transform(movies['title'])"
   ]
  },
  {
   "cell_type": "code",
   "execution_count": 5,
   "id": "5c76ee46",
   "metadata": {},
   "outputs": [],
   "source": [
    "# Compute the cosine similarity matrix\n",
    "cosine_sim_matrix = cosine_similarity(title_vectors, title_vectors)"
   ]
  },
  {
   "cell_type": "code",
   "execution_count": 6,
   "id": "5c4bea34",
   "metadata": {},
   "outputs": [],
   "source": [
    "# Function to recommend movies based on input movie\n",
    "def recommend_movies(movie_title, cosine_sim_matrix=cosine_sim_matrix, movies=movies):\n",
    "    # Get the index of the input movie\n",
    "    idx = movies[movies['title'] == movie_title].index[0]\n",
    "    \n",
    "    # Get the cosine similarity scores of all movies with the input movie\n",
    "    sim_scores = list(enumerate(cosine_sim_matrix[idx]))\n",
    "    \n",
    "    # Sort the movies based on the cosine similarity scores\n",
    "    sim_scores = sorted(sim_scores, key=lambda x: x[1], reverse=True)\n",
    "    \n",
    "    # Get the top 10 most similar movies (excluding the input movie itself)\n",
    "    top_similar_movies = [movies.iloc[i[0]]['title'] for i in sim_scores[1:11]]\n",
    "    \n",
    "    return top_similar_movies"
   ]
  },
  {
   "cell_type": "code",
   "execution_count": 7,
   "id": "e41991c0",
   "metadata": {},
   "outputs": [
    {
     "name": "stdout",
     "output_type": "stream",
     "text": [
      "['First Knight', 'The Dark Knight Rises', 'Alone in the Dark', 'Out of the Dark', 'Batman: The Dark Knight Returns, Part 2', 'Knight and Day', 'Black Knight', \"A Knight's Tale\", 'Dark City', 'Dark Blue']\n"
     ]
    }
   ],
   "source": [
    "# Example usage\n",
    "recommendations = recommend_movies('The Dark Knight')\n",
    "print(recommendations)"
   ]
  }
 ],
 "metadata": {
  "kernelspec": {
   "display_name": "Python 3 (ipykernel)",
   "language": "python",
   "name": "python3"
  },
  "language_info": {
   "codemirror_mode": {
    "name": "ipython",
    "version": 3
   },
   "file_extension": ".py",
   "mimetype": "text/x-python",
   "name": "python",
   "nbconvert_exporter": "python",
   "pygments_lexer": "ipython3",
   "version": "3.9.12"
  }
 },
 "nbformat": 4,
 "nbformat_minor": 5
}
